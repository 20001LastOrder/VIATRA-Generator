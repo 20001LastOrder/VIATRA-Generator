{
 "cells": [
  {
   "cell_type": "markdown",
   "metadata": {},
   "source": [
    "## Use K-medoid algorithm to find the suitable human model representitives"
   ]
  },
  {
   "cell_type": "markdown",
   "metadata": {},
   "source": [
    "### Imports"
   ]
  },
  {
   "cell_type": "code",
   "execution_count": 1,
   "metadata": {},
   "outputs": [],
   "source": [
    "from GraphType import GraphStat\n",
    "import readCSV as reader\n",
    "from scipy import stats\n",
    "from ipywidgets import interact, fixed, interactive\n",
    "import ipywidgets as widgets\n",
    "from pyclustering.cluster.kmedoids import kmedoids\n",
    "from pyclustering.utils.metric import distance_metric, type_metric\n",
    "import random"
   ]
  },
  {
   "cell_type": "markdown",
   "metadata": {},
   "source": [
    "### Define a new distance metric"
   ]
  },
  {
   "cell_type": "code",
   "execution_count": 2,
   "metadata": {},
   "outputs": [],
   "source": [
    "def ks_value(dest1, dest2):\n",
    "    value, p = stats.ks_2samp(dest1, dest2)\n",
    "    return value\n",
    "\n",
    "\n",
    "ks_metric = distance_metric(type_metric.USER_DEFINED, func=ks_value)"
   ]
  },
  {
   "cell_type": "markdown",
   "metadata": {},
   "source": [
    "### Read Human Models"
   ]
  },
  {
   "cell_type": "code",
   "execution_count": 3,
   "metadata": {},
   "outputs": [
    {
     "data": {
      "text/plain": [
       "1253"
      ]
     },
     "execution_count": 3,
     "metadata": {},
     "output_type": "execute_result"
    }
   ],
   "source": [
    "# Progress Widge\n",
    "w = widgets.FloatProgress(\n",
    "    value=0,\n",
    "    min=0,\n",
    "    max=1.0,\n",
    "    step=0.1,\n",
    "    description='Loading Files...:',\n",
    "    bar_style='info',\n",
    "    orientation='horizontal'\n",
    ")\n",
    "\n",
    "\n",
    "humanFiles = reader.readmultiplefiles('../statistics/humanOutput/', 1300, False)\n",
    "modelToFileName = {}\n",
    "for name in humanFiles:\n",
    "    modelToFileName[GraphStat(name)] = name\n",
    "\n",
    "models = list(modelToFileName.keys())\n",
    "len(humanFiles)"
   ]
  },
  {
   "cell_type": "markdown",
   "metadata": {},
   "source": [
    "### Find Representative by K-medroid for different dists on GraphStat"
   ]
  },
  {
   "cell_type": "markdown",
   "metadata": {},
   "source": [
    "* Returns the index of the representative"
   ]
  },
  {
   "cell_type": "code",
   "execution_count": 7,
   "metadata": {},
   "outputs": [],
   "source": [
    "def findRep(graphStats, func):\n",
    "    out_ds = list(map(func, models))\n",
    "\n",
    "    #choose a random starting point\n",
    "    start_index = random.randint(0, len(out_ds))\n",
    "\n",
    "    # start with one initial metrid [start_index]\n",
    "    outdegree_kmedoid = kmedoids(out_ds, [start_index], metric=ks_metric)\n",
    "\n",
    "    outdegree_kmedoid.process()\n",
    "    centoids = outdegree_kmedoid.get_medoids()\n",
    "    return centoids[0]"
   ]
  },
  {
   "cell_type": "markdown",
   "metadata": {},
   "source": [
    "### Find representative for out degree"
   ]
  },
  {
   "cell_type": "code",
   "execution_count": 8,
   "metadata": {},
   "outputs": [
    {
     "name": "stdout",
     "output_type": "stream",
     "text": [
      "../statistics/humanOutput\\R_20158_run_1.csv\n",
      "../statistics/humanOutput\\R_20158_run_1.csv\n"
     ]
    }
   ],
   "source": [
    "od_rep_index = findRep(models, lambda m: m.out_d)\n",
    "print(list(modelToFileName.values())[od_rep_index])\n",
    "od_rep_model = models[od_rep_index]\n",
    "print(modelToFileName[od_rep_model])\n"
   ]
  },
  {
   "cell_type": "markdown",
   "metadata": {},
   "source": [
    "### Find Representative for node activities"
   ]
  },
  {
   "cell_type": "code",
   "execution_count": 9,
   "metadata": {},
   "outputs": [
    {
     "ename": "NameError",
     "evalue": "name 'na_rep_index' is not defined",
     "output_type": "error",
     "traceback": [
      "\u001b[1;31m---------------------------------------------------------------------------\u001b[0m",
      "\u001b[1;31mNameError\u001b[0m                                 Traceback (most recent call last)",
      "\u001b[1;32m<ipython-input-9-7899480190c8>\u001b[0m in \u001b[0;36m<module>\u001b[1;34m\u001b[0m\n\u001b[0;32m      1\u001b[0m \u001b[0mna_rp_index\u001b[0m \u001b[1;33m=\u001b[0m \u001b[0mfindRep\u001b[0m\u001b[1;33m(\u001b[0m\u001b[0mmodels\u001b[0m\u001b[1;33m,\u001b[0m \u001b[1;32mlambda\u001b[0m \u001b[0mm\u001b[0m\u001b[1;33m:\u001b[0m \u001b[0mm\u001b[0m\u001b[1;33m.\u001b[0m\u001b[0mna\u001b[0m\u001b[1;33m)\u001b[0m\u001b[1;33m\u001b[0m\u001b[1;33m\u001b[0m\u001b[0m\n\u001b[1;32m----> 2\u001b[1;33m \u001b[0mprint\u001b[0m\u001b[1;33m(\u001b[0m\u001b[0mlist\u001b[0m\u001b[1;33m(\u001b[0m\u001b[0mmodelToFileName\u001b[0m\u001b[1;33m.\u001b[0m\u001b[0mvalues\u001b[0m\u001b[1;33m(\u001b[0m\u001b[1;33m)\u001b[0m\u001b[1;33m)\u001b[0m\u001b[1;33m[\u001b[0m\u001b[0mna_rep_index\u001b[0m\u001b[1;33m]\u001b[0m\u001b[1;33m)\u001b[0m\u001b[1;33m\u001b[0m\u001b[1;33m\u001b[0m\u001b[0m\n\u001b[0m\u001b[0;32m      3\u001b[0m \u001b[0mna_rep_model\u001b[0m \u001b[1;33m=\u001b[0m \u001b[0mmodels\u001b[0m\u001b[1;33m[\u001b[0m\u001b[0mna_rep_index\u001b[0m\u001b[1;33m]\u001b[0m\u001b[1;33m\u001b[0m\u001b[1;33m\u001b[0m\u001b[0m\n\u001b[0;32m      4\u001b[0m \u001b[0mprint\u001b[0m\u001b[1;33m(\u001b[0m\u001b[0mmodelToFileName\u001b[0m\u001b[1;33m[\u001b[0m\u001b[0mna_rep_model\u001b[0m\u001b[1;33m]\u001b[0m\u001b[1;33m)\u001b[0m\u001b[1;33m\u001b[0m\u001b[1;33m\u001b[0m\u001b[0m\n",
      "\u001b[1;31mNameError\u001b[0m: name 'na_rep_index' is not defined"
     ]
    }
   ],
   "source": [
    "na_rep_index = findRep(models, lambda m: m.na)\n",
    "print(list(modelToFileName.values())[na_rep_index])\n",
    "na_rep_model = models[na_rep_index]\n",
    "print(modelToFileName[na_rep_model])"
   ]
  },
  {
   "cell_type": "code",
   "execution_count": 11,
   "metadata": {},
   "outputs": [
    {
     "name": "stdout",
     "output_type": "stream",
     "text": [
      "../statistics/humanOutput\\R_2016176_run_1.csv\n",
      "../statistics/humanOutput\\R_2016176_run_1.csv\n"
     ]
    }
   ],
   "source": [
    "print(list(modelToFileName.values())[na_rp_index])\n",
    "na_rep_model = models[na_rp_index]\n",
    "print(modelToFileName[na_rep_model])"
   ]
  },
  {
   "cell_type": "markdown",
   "metadata": {},
   "source": [
    "### Find Representative for MPC"
   ]
  },
  {
   "cell_type": "code",
   "execution_count": 12,
   "metadata": {},
   "outputs": [
    {
     "name": "stdout",
     "output_type": "stream",
     "text": [
      "../statistics/humanOutput\\R_2015246_run_1.csv\n",
      "../statistics/humanOutput\\R_2015246_run_1.csv\n"
     ]
    }
   ],
   "source": [
    "mpc_rep_index = findRep(models, lambda m: m.mpc)\n",
    "print(list(modelToFileName.values())[mpc_rep_index])\n",
    "mpc_rep_model = models[mpc_rep_index]\n",
    "print(modelToFileName[mpc_rep_model])"
   ]
  }
 ],
 "metadata": {
  "kernelspec": {
   "display_name": "Python 3",
   "language": "python",
   "name": "python3"
  },
  "language_info": {
   "codemirror_mode": {
    "name": "ipython",
    "version": 3
   },
   "file_extension": ".py",
   "mimetype": "text/x-python",
   "name": "python",
   "nbconvert_exporter": "python",
   "pygments_lexer": "ipython3",
   "version": "3.7.3"
  }
 },
 "nbformat": 4,
 "nbformat_minor": 2
}
